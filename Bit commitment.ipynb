{
 "cells": [
  {
   "cell_type": "markdown",
   "id": "39e040fa-14c6-4583-89b3-a8f46f2d0b1c",
   "metadata": {
    "tags": []
   },
   "source": [
    "# Bit Commitment for trusting parties\n",
    "Bit Commitment (BC) is a cryptographic primitive that captures the following two-party functionality: Alice has a bit b that she wants to commit to Bob, but she wants to prevent Bob from reading b until she chooses to reveal it (concealing or hiding). Although Bob should not be able to determine b before Alice reveals it, Alice should be unable to change the bit after it is committed (binding). A physical-world implementation of bit commitment would be for Alice to write b on a piece of paper, lock it in a safe, and send the safe to Bob. Since Bob cannot open the safe, he cannot determine b (concealing), and since Alice has physically given the safe to Bob, she cannot change b after the commitment phase (binding). When Alice wishes to reveal the bit, she sends the key to Bob."
   ]
  },
  {
   "cell_type": "markdown",
   "id": "27440d5e-4a63-455d-9bdb-ec85fa4d6f05",
   "metadata": {
    "jp-MarkdownHeadingCollapsed": true,
    "tags": []
   },
   "source": [
    "## Importing libraries"
   ]
  },
  {
   "cell_type": "code",
   "execution_count": 4,
   "id": "d1d161b5-06d2-4182-a6fb-96815be12752",
   "metadata": {},
   "outputs": [],
   "source": [
    "%matplotlib inline\n",
    "# Importing standard Qiskit libraries\n",
    "from qiskit import QuantumCircuit, execute, Aer, IBMQ\n",
    "from qiskit.compiler import transpile, assemble\n",
    "from qiskit.tools.jupyter import *\n",
    "from random import randint\n",
    "import hashlib"
   ]
  },
  {
   "cell_type": "markdown",
   "id": "04c9afb8-f50c-4f83-8923-968676dd2793",
   "metadata": {
    "jp-MarkdownHeadingCollapsed": true,
    "tags": []
   },
   "source": [
    "## Funtions to convert strings to and from binary"
   ]
  },
  {
   "cell_type": "code",
   "execution_count": 5,
   "id": "65e7f8d8-3b49-42d3-862f-516e10aeb72d",
   "metadata": {},
   "outputs": [],
   "source": [
    "def tobits(s):\n",
    "    result = []\n",
    "    for c in s:\n",
    "        bits = bin(ord(c))[2:]\n",
    "        bits = '00000000'[len(bits):] + bits\n",
    "        result.extend([int(b) for b in bits])\n",
    "    return ''.join([str(x) for x in result])"
   ]
  },
  {
   "cell_type": "code",
   "execution_count": null,
   "id": "b2d104c3-039f-4b50-b70d-0f0db8d2842b",
   "metadata": {},
   "outputs": [],
   "source": [
    "def frombits(bits):\n",
    "    chars = []\n",
    "    for b in range(int(len(bits) / 8)):\n",
    "        byte = bits[b*8:(b+1)*8]\n",
    "        chars.append(chr(int(''.join([str(bit) for bit in byte]), 2)))\n",
    "    return ''.join(chars)"
   ]
  },
  {
   "cell_type": "markdown",
   "id": "c86fd4f7-e996-46e5-94e5-798d3cdd09df",
   "metadata": {},
   "source": [
    "## Sender side (Alice)"
   ]
  },
  {
   "cell_type": "code",
   "execution_count": 23,
   "id": "95ad4903-318c-4ca8-9807-cc0d1e151e47",
   "metadata": {},
   "outputs": [
    {
     "data": {
      "text/plain": [
       "'01001000011001010110110001101100011011110010110000100000011101000110100001101001011100110010000001101001011100110010000001011001011000010110101001100001011101000010000001001101011000010110110001101000011011110111010001110010011000010010000100100001'"
      ]
     },
     "execution_count": 23,
     "metadata": {},
     "output_type": "execute_result"
    }
   ],
   "source": [
    "# Converting the string into binary\n",
    "messageToSend = tobits(\"Hello, this is Yajat Malhotra!!\")\n",
    "messageToSend"
   ]
  },
  {
   "cell_type": "code",
   "execution_count": 24,
   "id": "035d2536-7287-4f8d-b323-24496e4f5e83",
   "metadata": {},
   "outputs": [],
   "source": [
    "# An array for random 1s/0s of the same length as the message\n",
    "Alice_bases = [randint(0,1) for x in range(len(messageToSend))]"
   ]
  },
  {
   "cell_type": "code",
   "execution_count": 26,
   "id": "fb82117d-9542-4706-ac56-0eaebd11b3a3",
   "metadata": {},
   "outputs": [],
   "source": [
    "# Creating a quantum circuit\n",
    "qubits = list()\n",
    "for i in range(len(Alice_bases)):\n",
    "    mycircuit = QuantumCircuit(1,1)\n",
    "    if(Alice_bases[i] == 0):\n",
    "        if(messageToSend[i] == \"1\"):\n",
    "            mycircuit.x(0)\n",
    "    else:\n",
    "        if(messageToSend[i] == \"0\"):\n",
    "            mycircuit.h(0)\n",
    "        else:\n",
    "            mycircuit.x(0)\n",
    "            mycircuit.h(0)\n",
    "    qubits.append(mycircuit)"
   ]
  },
  {
   "cell_type": "markdown",
   "id": "c21930fd-b0e9-45f8-a89e-7aaf4510aeed",
   "metadata": {},
   "source": [
    "## Receiver's Side (Bob)"
   ]
  },
  {
   "cell_type": "code",
   "execution_count": 27,
   "id": "1ba86e66-e065-434a-9e8f-4f392b8e74f1",
   "metadata": {},
   "outputs": [
    {
     "name": "stdout",
     "output_type": "stream",
     "text": [
      "Alice message was: Hello, this is Yajat Malhotra!!\n"
     ]
    }
   ],
   "source": [
    "backend = Aer.get_backend('qasm_simulator')\n",
    "measurements = list()\n",
    "for i in range(len(Alice_bases)):\n",
    "    qubit = qubits[i]\n",
    "    if(Alice_bases[i] == 0):\n",
    "        qubit.measure(0,0)\n",
    "    else:\n",
    "        qubit.h(0)\n",
    "        qubit.measure(0,0)\n",
    "    result = execute(qubit, backend, shots=1, memory=True).result()\n",
    "    measurements.append(int(result.get_memory()[0]))\n",
    "print(\"Alice message was: \" + frombits(measurements))"
   ]
  },
  {
   "cell_type": "code",
   "execution_count": null,
   "id": "4c6465ae-1835-4eb7-ac02-f66db40ca0eb",
   "metadata": {},
   "outputs": [],
   "source": []
  }
 ],
 "metadata": {
  "kernelspec": {
   "display_name": "Python 3 (ipykernel)",
   "language": "python",
   "name": "python3"
  },
  "language_info": {
   "codemirror_mode": {
    "name": "ipython",
    "version": 3
   },
   "file_extension": ".py",
   "mimetype": "text/x-python",
   "name": "python",
   "nbconvert_exporter": "python",
   "pygments_lexer": "ipython3",
   "version": "3.8.13"
  },
  "widgets": {
   "application/vnd.jupyter.widget-state+json": {
    "state": {
     "288fba498eb54a26aa2a0878b2acdf3b": {
      "model_module": "@jupyter-widgets/controls",
      "model_module_version": "1.5.0",
      "model_name": "GridBoxModel",
      "state": {
       "children": [
        "IPY_MODEL_5fd4970e53ce402d8b819d6fd83be711"
       ],
       "layout": "IPY_MODEL_78562ca7f9a44f9a8055ec533050c69e"
      }
     },
     "2d29f540507c4c3e92d4bc9728c0d6c7": {
      "model_module": "@jupyter-widgets/base",
      "model_module_version": "1.2.0",
      "model_name": "LayoutModel",
      "state": {
       "width": "95px"
      }
     },
     "38dbfb422f564a7888a587a2d3542154": {
      "model_module": "@jupyter-widgets/base",
      "model_module_version": "1.2.0",
      "model_name": "LayoutModel",
      "state": {
       "width": "145px"
      }
     },
     "4ccee7c88e95401ab7f01d6ab126d1f5": {
      "model_module": "@jupyter-widgets/base",
      "model_module_version": "1.2.0",
      "model_name": "LayoutModel",
      "state": {
       "margin": "0px 0px 0px 37px",
       "width": "600px"
      }
     },
     "5084ea22bb58457aa3fd32ad6741ffe7": {
      "model_module": "@jupyter-widgets/controls",
      "model_module_version": "1.5.0",
      "model_name": "DescriptionStyleModel",
      "state": {
       "description_width": ""
      }
     },
     "5438a7aabe7c4777b96e19d4ecab248c": {
      "model_module": "@jupyter-widgets/controls",
      "model_module_version": "1.5.0",
      "model_name": "HTMLModel",
      "state": {
       "layout": "IPY_MODEL_c82ae4c25638471c8254fe498501ca2b",
       "style": "IPY_MODEL_6f62e468d9b846438cc5ecd1cc1ebad0",
       "value": "<p style='font-family: IBM Plex Sans, Arial, Helvetica, sans-serif; font-size: 20px; font-weight: medium;'>Circuit Properties</p>"
      }
     },
     "5af4754262bb47f0b4c4ddfd6b69f464": {
      "model_module": "@jupyter-widgets/base",
      "model_module_version": "1.2.0",
      "model_name": "LayoutModel",
      "state": {
       "width": "70px"
      }
     },
     "5fd4970e53ce402d8b819d6fd83be711": {
      "model_module": "@jupyter-widgets/controls",
      "model_module_version": "1.5.0",
      "model_name": "ButtonModel",
      "state": {
       "button_style": "primary",
       "description": "Clear",
       "layout": "IPY_MODEL_a14eab77e39b4d748af87ab9b506fa44",
       "style": "IPY_MODEL_7e0eee9ef3ee46329fa871afd08efd2f"
      }
     },
     "6f62e468d9b846438cc5ecd1cc1ebad0": {
      "model_module": "@jupyter-widgets/controls",
      "model_module_version": "1.5.0",
      "model_name": "DescriptionStyleModel",
      "state": {
       "description_width": ""
      }
     },
     "782c60c97c47416184098b60d59a2a72": {
      "model_module": "@jupyter-widgets/controls",
      "model_module_version": "1.5.0",
      "model_name": "HTMLModel",
      "state": {
       "layout": "IPY_MODEL_910515e1053e453594ce4798ae76bdfc",
       "style": "IPY_MODEL_80452880c911437e9f85ee1b7a2d205e",
       "value": "<h5>Job ID</h5>"
      }
     },
     "78562ca7f9a44f9a8055ec533050c69e": {
      "model_module": "@jupyter-widgets/base",
      "model_module_version": "1.2.0",
      "model_name": "LayoutModel",
      "state": {
       "grid_template_areas": "\n                                       \". . . . right \"\n                                        ",
       "grid_template_columns": "20% 20% 20% 20% 20%",
       "width": "100%"
      }
     },
     "79a8501ef86647a486ed88dd72c7eca2": {
      "model_module": "@jupyter-widgets/controls",
      "model_module_version": "1.5.0",
      "model_name": "DescriptionStyleModel",
      "state": {
       "description_width": ""
      }
     },
     "7e0eee9ef3ee46329fa871afd08efd2f": {
      "model_module": "@jupyter-widgets/controls",
      "model_module_version": "1.5.0",
      "model_name": "ButtonStyleModel",
      "state": {}
     },
     "80452880c911437e9f85ee1b7a2d205e": {
      "model_module": "@jupyter-widgets/controls",
      "model_module_version": "1.5.0",
      "model_name": "DescriptionStyleModel",
      "state": {
       "description_width": ""
      }
     },
     "817a187e74da4764a1b0ee81860c3834": {
      "model_module": "@jupyter-widgets/controls",
      "model_module_version": "1.5.0",
      "model_name": "HTMLModel",
      "state": {
       "layout": "IPY_MODEL_38dbfb422f564a7888a587a2d3542154",
       "style": "IPY_MODEL_a3595af21dae465cb7e924b7954b7268",
       "value": "<h5>Backend</h5>"
      }
     },
     "910515e1053e453594ce4798ae76bdfc": {
      "model_module": "@jupyter-widgets/base",
      "model_module_version": "1.2.0",
      "model_name": "LayoutModel",
      "state": {
       "width": "190px"
      }
     },
     "a14eab77e39b4d748af87ab9b506fa44": {
      "model_module": "@jupyter-widgets/base",
      "model_module_version": "1.2.0",
      "model_name": "LayoutModel",
      "state": {
       "grid_area": "right",
       "padding": "0px 0px 0px 0px",
       "width": "70px"
      }
     },
     "a2feb76570574478946216ad2049e134": {
      "model_module": "@jupyter-widgets/controls",
      "model_module_version": "1.5.0",
      "model_name": "HBoxModel",
      "state": {
       "children": [
        "IPY_MODEL_782c60c97c47416184098b60d59a2a72",
        "IPY_MODEL_817a187e74da4764a1b0ee81860c3834",
        "IPY_MODEL_f0d3bb0b965b493792526b9e355299fb",
        "IPY_MODEL_d87497eab7874aca990622c60075ed94",
        "IPY_MODEL_bdc6616ee25b4b1cb9bd6653ac2c398c"
       ],
       "layout": "IPY_MODEL_4ccee7c88e95401ab7f01d6ab126d1f5"
      }
     },
     "a3595af21dae465cb7e924b7954b7268": {
      "model_module": "@jupyter-widgets/controls",
      "model_module_version": "1.5.0",
      "model_name": "DescriptionStyleModel",
      "state": {
       "description_width": ""
      }
     },
     "baccc2cfa7f546acb93dec074359d122": {
      "model_module": "@jupyter-widgets/base",
      "model_module_version": "1.2.0",
      "model_name": "LayoutModel",
      "state": {}
     },
     "bdc6616ee25b4b1cb9bd6653ac2c398c": {
      "model_module": "@jupyter-widgets/controls",
      "model_module_version": "1.5.0",
      "model_name": "HTMLModel",
      "state": {
       "layout": "IPY_MODEL_baccc2cfa7f546acb93dec074359d122",
       "style": "IPY_MODEL_f61ef1b3702844cc8392565c1c6ab4db",
       "value": "<h5>Message</h5>"
      }
     },
     "c82ae4c25638471c8254fe498501ca2b": {
      "model_module": "@jupyter-widgets/base",
      "model_module_version": "1.2.0",
      "model_name": "LayoutModel",
      "state": {
       "margin": "0px 0px 10px 0px"
      }
     },
     "d87497eab7874aca990622c60075ed94": {
      "model_module": "@jupyter-widgets/controls",
      "model_module_version": "1.5.0",
      "model_name": "HTMLModel",
      "state": {
       "layout": "IPY_MODEL_5af4754262bb47f0b4c4ddfd6b69f464",
       "style": "IPY_MODEL_79a8501ef86647a486ed88dd72c7eca2",
       "value": "<h5>Queue</h5>"
      }
     },
     "f0d3bb0b965b493792526b9e355299fb": {
      "model_module": "@jupyter-widgets/controls",
      "model_module_version": "1.5.0",
      "model_name": "HTMLModel",
      "state": {
       "layout": "IPY_MODEL_2d29f540507c4c3e92d4bc9728c0d6c7",
       "style": "IPY_MODEL_5084ea22bb58457aa3fd32ad6741ffe7",
       "value": "<h5>Status</h5>"
      }
     },
     "f61ef1b3702844cc8392565c1c6ab4db": {
      "model_module": "@jupyter-widgets/controls",
      "model_module_version": "1.5.0",
      "model_name": "DescriptionStyleModel",
      "state": {
       "description_width": ""
      }
     }
    },
    "version_major": 2,
    "version_minor": 0
   }
  }
 },
 "nbformat": 4,
 "nbformat_minor": 5
}
