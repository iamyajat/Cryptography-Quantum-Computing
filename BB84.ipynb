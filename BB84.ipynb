{
  "cells": [
    {
      "cell_type": "markdown",
      "metadata": {
        "id": "view-in-github",
        "colab_type": "text"
      },
      "source": [
        "<a href=\"https://colab.research.google.com/github/iamyajat/cryptography-quantum-computing/blob/main/BB84.ipynb\" target=\"_parent\"><img src=\"https://colab.research.google.com/assets/colab-badge.svg\" alt=\"Open In Colab\"/></a>"
      ]
    },
    {
      "cell_type": "markdown",
      "metadata": {
        "id": "v_xJStGBCbaJ"
      },
      "source": [
        "# Evesdropping on BB84 Algorithm for Quantum Key Exchange"
      ]
    },
    {
      "cell_type": "code",
      "source": [
        "!pip install qiskit"
      ],
      "metadata": {
        "colab": {
          "base_uri": "https://localhost:8080/"
        },
        "id": "UeFCsY8qCquD",
        "outputId": "bd975ec4-292c-4f96-d073-620cc40963fa"
      },
      "execution_count": 1,
      "outputs": [
        {
          "output_type": "stream",
          "name": "stdout",
          "text": [
            "Looking in indexes: https://pypi.org/simple, https://us-python.pkg.dev/colab-wheels/public/simple/\n",
            "Collecting qiskit\n",
            "  Downloading qiskit-0.39.2.tar.gz (13 kB)\n",
            "Collecting qiskit-terra==0.22.2\n",
            "  Downloading qiskit_terra-0.22.2-cp37-cp37m-manylinux_2_17_x86_64.manylinux2014_x86_64.whl (4.8 MB)\n",
            "\u001b[K     |████████████████████████████████| 4.8 MB 5.0 MB/s \n",
            "\u001b[?25hCollecting qiskit-aer==0.11.1\n",
            "  Downloading qiskit_aer-0.11.1-cp37-cp37m-manylinux_2_17_x86_64.manylinux2014_x86_64.whl (19.2 MB)\n",
            "\u001b[K     |████████████████████████████████| 19.2 MB 1.2 MB/s \n",
            "\u001b[?25hCollecting qiskit-ibmq-provider==0.19.2\n",
            "  Downloading qiskit_ibmq_provider-0.19.2-py3-none-any.whl (240 kB)\n",
            "\u001b[K     |████████████████████████████████| 240 kB 52.5 MB/s \n",
            "\u001b[?25hRequirement already satisfied: scipy>=1.0 in /usr/local/lib/python3.7/dist-packages (from qiskit-aer==0.11.1->qiskit) (1.7.3)\n",
            "Requirement already satisfied: numpy>=1.16.3 in /usr/local/lib/python3.7/dist-packages (from qiskit-aer==0.11.1->qiskit) (1.21.6)\n",
            "Collecting websocket-client>=1.0.1\n",
            "  Downloading websocket_client-1.4.2-py3-none-any.whl (55 kB)\n",
            "\u001b[K     |████████████████████████████████| 55 kB 3.8 MB/s \n",
            "\u001b[?25hRequirement already satisfied: urllib3>=1.21.1 in /usr/local/lib/python3.7/dist-packages (from qiskit-ibmq-provider==0.19.2->qiskit) (1.24.3)\n",
            "Requirement already satisfied: python-dateutil>=2.8.0 in /usr/local/lib/python3.7/dist-packages (from qiskit-ibmq-provider==0.19.2->qiskit) (2.8.2)\n",
            "Requirement already satisfied: requests>=2.19 in /usr/local/lib/python3.7/dist-packages (from qiskit-ibmq-provider==0.19.2->qiskit) (2.23.0)\n",
            "Collecting requests-ntlm>=1.1.0\n",
            "  Downloading requests_ntlm-1.1.0-py2.py3-none-any.whl (5.7 kB)\n",
            "Collecting websockets>=10.0\n",
            "  Downloading websockets-10.4-cp37-cp37m-manylinux_2_5_x86_64.manylinux1_x86_64.manylinux_2_17_x86_64.manylinux2014_x86_64.whl (106 kB)\n",
            "\u001b[K     |████████████████████████████████| 106 kB 52.4 MB/s \n",
            "\u001b[?25hCollecting ply>=3.10\n",
            "  Downloading ply-3.11-py2.py3-none-any.whl (49 kB)\n",
            "\u001b[K     |████████████████████████████████| 49 kB 6.5 MB/s \n",
            "\u001b[?25hRequirement already satisfied: psutil>=5 in /usr/local/lib/python3.7/dist-packages (from qiskit-terra==0.22.2->qiskit) (5.4.8)\n",
            "Collecting retworkx>=0.11.0\n",
            "  Downloading retworkx-0.12.0-py3-none-any.whl (10 kB)\n",
            "Collecting symengine>=0.9\n",
            "  Downloading symengine-0.9.2-cp37-cp37m-manylinux2010_x86_64.whl (37.5 MB)\n",
            "\u001b[K     |████████████████████████████████| 37.5 MB 50 kB/s \n",
            "\u001b[?25hRequirement already satisfied: typing-extensions in /usr/local/lib/python3.7/dist-packages (from qiskit-terra==0.22.2->qiskit) (4.1.1)\n",
            "Collecting stevedore>=3.0.0\n",
            "  Downloading stevedore-3.5.2-py3-none-any.whl (50 kB)\n",
            "\u001b[K     |████████████████████████████████| 50 kB 6.9 MB/s \n",
            "\u001b[?25hRequirement already satisfied: sympy>=1.3 in /usr/local/lib/python3.7/dist-packages (from qiskit-terra==0.22.2->qiskit) (1.7.1)\n",
            "Collecting shared-memory38\n",
            "  Downloading shared_memory38-0.1.2-cp37-cp37m-manylinux_2_5_x86_64.manylinux1_x86_64.whl (25 kB)\n",
            "Requirement already satisfied: importlib-metadata<5.0 in /usr/local/lib/python3.7/dist-packages (from qiskit-terra==0.22.2->qiskit) (4.13.0)\n",
            "Collecting tweedledum<2.0,>=1.1\n",
            "  Downloading tweedledum-1.1.1-cp37-cp37m-manylinux_2_12_x86_64.manylinux2010_x86_64.whl (943 kB)\n",
            "\u001b[K     |████████████████████████████████| 943 kB 58.4 MB/s \n",
            "\u001b[?25hRequirement already satisfied: dill>=0.3 in /usr/local/lib/python3.7/dist-packages (from qiskit-terra==0.22.2->qiskit) (0.3.6)\n",
            "Requirement already satisfied: zipp>=0.5 in /usr/local/lib/python3.7/dist-packages (from importlib-metadata<5.0->qiskit-terra==0.22.2->qiskit) (3.10.0)\n",
            "Requirement already satisfied: six>=1.5 in /usr/local/lib/python3.7/dist-packages (from python-dateutil>=2.8.0->qiskit-ibmq-provider==0.19.2->qiskit) (1.15.0)\n",
            "Requirement already satisfied: certifi>=2017.4.17 in /usr/local/lib/python3.7/dist-packages (from requests>=2.19->qiskit-ibmq-provider==0.19.2->qiskit) (2022.9.24)\n",
            "Requirement already satisfied: chardet<4,>=3.0.2 in /usr/local/lib/python3.7/dist-packages (from requests>=2.19->qiskit-ibmq-provider==0.19.2->qiskit) (3.0.4)\n",
            "Requirement already satisfied: idna<3,>=2.5 in /usr/local/lib/python3.7/dist-packages (from requests>=2.19->qiskit-ibmq-provider==0.19.2->qiskit) (2.10)\n",
            "Collecting ntlm-auth>=1.0.2\n",
            "  Downloading ntlm_auth-1.5.0-py2.py3-none-any.whl (29 kB)\n",
            "Collecting cryptography>=1.3\n",
            "  Downloading cryptography-38.0.3-cp36-abi3-manylinux_2_24_x86_64.whl (4.1 MB)\n",
            "\u001b[K     |████████████████████████████████| 4.1 MB 50.9 MB/s \n",
            "\u001b[?25hRequirement already satisfied: cffi>=1.12 in /usr/local/lib/python3.7/dist-packages (from cryptography>=1.3->requests-ntlm>=1.1.0->qiskit-ibmq-provider==0.19.2->qiskit) (1.15.1)\n",
            "Requirement already satisfied: pycparser in /usr/local/lib/python3.7/dist-packages (from cffi>=1.12->cryptography>=1.3->requests-ntlm>=1.1.0->qiskit-ibmq-provider==0.19.2->qiskit) (2.21)\n",
            "Collecting rustworkx==0.12.0\n",
            "  Downloading rustworkx-0.12.0-cp37-cp37m-manylinux_2_17_x86_64.manylinux2014_x86_64.whl (1.9 MB)\n",
            "\u001b[K     |████████████████████████████████| 1.9 MB 52.8 MB/s \n",
            "\u001b[?25hCollecting pbr!=2.1.0,>=2.0.0\n",
            "  Downloading pbr-5.11.0-py2.py3-none-any.whl (112 kB)\n",
            "\u001b[K     |████████████████████████████████| 112 kB 78.2 MB/s \n",
            "\u001b[?25hRequirement already satisfied: mpmath>=0.19 in /usr/local/lib/python3.7/dist-packages (from sympy>=1.3->qiskit-terra==0.22.2->qiskit) (1.2.1)\n",
            "Building wheels for collected packages: qiskit\n",
            "  Building wheel for qiskit (setup.py) ... \u001b[?25l\u001b[?25hdone\n",
            "  Created wheel for qiskit: filename=qiskit-0.39.2-py3-none-any.whl size=12224 sha256=74320b10885a50d0b6bbc5017633e5251981b4ce4076d9221d7bade64eb3f5cf\n",
            "  Stored in directory: /root/.cache/pip/wheels/30/dc/90/0ee55ccffd13c16db1abd4c43028f7c9cedb5576b190402190\n",
            "Successfully built qiskit\n",
            "Installing collected packages: rustworkx, pbr, tweedledum, symengine, stevedore, shared-memory38, retworkx, ply, ntlm-auth, cryptography, websockets, websocket-client, requests-ntlm, qiskit-terra, qiskit-ibmq-provider, qiskit-aer, qiskit\n",
            "Successfully installed cryptography-38.0.3 ntlm-auth-1.5.0 pbr-5.11.0 ply-3.11 qiskit-0.39.2 qiskit-aer-0.11.1 qiskit-ibmq-provider-0.19.2 qiskit-terra-0.22.2 requests-ntlm-1.1.0 retworkx-0.12.0 rustworkx-0.12.0 shared-memory38-0.1.2 stevedore-3.5.2 symengine-0.9.2 tweedledum-1.1.1 websocket-client-1.4.2 websockets-10.4\n"
          ]
        }
      ]
    },
    {
      "cell_type": "code",
      "execution_count": 2,
      "metadata": {
        "id": "bWAx03pkCbaL"
      },
      "outputs": [],
      "source": [
        "%matplotlib inline\n",
        "from qiskit import QuantumCircuit, execute, Aer, IBMQ\n",
        "from qiskit.compiler import transpile, assemble\n",
        "from qiskit.tools.jupyter import *\n",
        "from random import randint\n",
        "import hashlib\n",
        "from cryptography.fernet import Fernet"
      ]
    },
    {
      "cell_type": "code",
      "source": [
        "#Alice enters message to send\n",
        "msg = input(\"Enter the message to be sent: \")"
      ],
      "metadata": {
        "colab": {
          "base_uri": "https://localhost:8080/"
        },
        "id": "_R78hTHud5Si",
        "outputId": "d7447fbd-6e8d-4390-ee1c-64c6fb15fb70"
      },
      "execution_count": 3,
      "outputs": [
        {
          "name": "stdout",
          "output_type": "stream",
          "text": [
            "Enter the message to be sent: Hi\n"
          ]
        }
      ]
    },
    {
      "cell_type": "code",
      "source": [
        "#Key Generation and Encryption of message\n",
        "key = Fernet.generate_key()\n",
        "fernet = Fernet(key)\n",
        "encMessage = fernet.encrypt(msg.encode())\n",
        "print(\"The key is:\")\n",
        "print(key)\n",
        "binKey = ''.join(format(ord(i), '08b') for i in str(key))\n",
        "print(\"The key in binary is:\")\n",
        "print(binKey)"
      ],
      "metadata": {
        "colab": {
          "base_uri": "https://localhost:8080/"
        },
        "id": "DBzRl4aJf1EO",
        "outputId": "04b99a5e-189f-44ec-b010-48c0dfa32f37"
      },
      "execution_count": 4,
      "outputs": [
        {
          "output_type": "stream",
          "name": "stdout",
          "text": [
            "The key is:\n",
            "b'oMAYSr4HFwfcbLLiE5Cvr5ydRBZ0WS-xukGcye9ap5M='\n",
            "The key in binary is:\n",
            "0110001000100111011011110100110101000001010110010101001101110010001101000100100001000110011101110110011001100011011000100100110001001100011010010100010100110101010000110111011001110010001101010111100101100100010100100100001001011010001100000101011101010011001011010111100001110101011010110100011101100011011110010110010100111001011000010111000000110101010011010011110100100111\n"
          ]
        }
      ]
    },
    {
      "cell_type": "code",
      "execution_count": 5,
      "metadata": {
        "id": "D50N2gaVCbaN"
      },
      "outputs": [],
      "source": [
        "#Alice cell, Bob can't see what's going in on here\n",
        "m0 = binKey\n",
        "Alice_bases = [randint(0,1) for x in range(256)]\n",
        "qubits = list()\n",
        "for i in range(len(Alice_bases)):\n",
        "    mycircuit = QuantumCircuit(1,1)\n",
        "    if(Alice_bases[i] == 0):\n",
        "        if(m0[i] == \"1\"):\n",
        "            mycircuit.x(0)\n",
        "    else:\n",
        "        if(m0[i] == \"0\"):\n",
        "            mycircuit.h(0)\n",
        "        else:\n",
        "            mycircuit.x(0)\n",
        "            mycircuit.h(0)\n",
        "    qubits.append(mycircuit)"
      ]
    },
    {
      "cell_type": "code",
      "source": [
        "mycircuit.draw()"
      ],
      "metadata": {
        "colab": {
          "base_uri": "https://localhost:8080/",
          "height": 94
        },
        "id": "mOxHUZWympCN",
        "outputId": "38f479f9-3944-47d4-ea2c-50c7cf972e8f"
      },
      "execution_count": 6,
      "outputs": [
        {
          "output_type": "execute_result",
          "data": {
            "text/plain": [
              "   ┌───┐\n",
              "q: ┤ X ├\n",
              "   └───┘\n",
              "c: ═════\n",
              "        "
            ],
            "text/html": [
              "<pre style=\"word-wrap: normal;white-space: pre;background: #fff0;line-height: 1.1;font-family: &quot;Courier New&quot;,Courier,monospace\">   ┌───┐\n",
              "q: ┤ X ├\n",
              "   └───┘\n",
              "c: ═════\n",
              "        </pre>"
            ]
          },
          "metadata": {},
          "execution_count": 6
        }
      ]
    },
    {
      "cell_type": "markdown",
      "metadata": {
        "id": "AjmPF51uCbaN"
      },
      "source": [
        "In the next cell Bob measures Alice's qubits. This measurement is random because Bob doesn't know Alice's Basis. Then He receives Alice's basis. Finally, He send to Alice the index of the basis that both meassure correctly. Bob can't recover the original message from Alice because In quantum mechanics after measuring a qubit you can't recover the information of the qubit. And also, He can't have copied the qubits because you can't create a perfect copy of a qubits by the quantum mechanics laws."
      ]
    },
    {
      "cell_type": "code",
      "execution_count": 7,
      "metadata": {
        "id": "5g-EeJFZCbaN"
      },
      "outputs": [],
      "source": [
        "#Bob cell, Alice can't see what's going in on here\n",
        "Bob_bases = [randint(0,1) for x in range(256)]\n",
        "backend = Aer.get_backend('qasm_simulator')\n",
        "measurements = list()\n",
        "for i in range(len(Bob_bases)):\n",
        "    qubit = qubits[i]\n",
        "    if(Bob_bases[i] == 0):\n",
        "        qubit.measure(0,0)\n",
        "    else:\n",
        "        qubit.h(0)\n",
        "        qubit.measure(0,0)\n",
        "    result = execute(qubit, backend, shots=1, memory=True).result()\n",
        "    measurements.append(int(result.get_memory()[0]))"
      ]
    },
    {
      "cell_type": "code",
      "execution_count": 8,
      "metadata": {
        "id": "Spu4lyMbCbaN"
      },
      "outputs": [],
      "source": [
        "#Bob cell, Alice can't see what's going in on here\n",
        "I0 = list()\n",
        "for i in range(len(Alice_bases)):\n",
        "    if(Alice_bases[i] == Bob_bases[i]):\n",
        "        I0.append(i)"
      ]
    },
    {
      "cell_type": "code",
      "source": [
        "mycircuit.draw()"
      ],
      "metadata": {
        "colab": {
          "base_uri": "https://localhost:8080/",
          "height": 94
        },
        "id": "GwrWKGdLntMj",
        "outputId": "7285f92b-6e91-4770-fccc-bc7f30b1d247"
      },
      "execution_count": 9,
      "outputs": [
        {
          "output_type": "execute_result",
          "data": {
            "text/plain": [
              "   ┌───┐┌───┐┌─┐\n",
              "q: ┤ X ├┤ H ├┤M├\n",
              "   └───┘└───┘└╥┘\n",
              "c: ═══════════╩═\n",
              "                "
            ],
            "text/html": [
              "<pre style=\"word-wrap: normal;white-space: pre;background: #fff0;line-height: 1.1;font-family: &quot;Courier New&quot;,Courier,monospace\">   ┌───┐┌───┐┌─┐\n",
              "q: ┤ X ├┤ H ├┤M├\n",
              "   └───┘└───┘└╥┘\n",
              "c: ═══════════╩═\n",
              "                </pre>"
            ]
          },
          "metadata": {},
          "execution_count": 9
        }
      ]
    },
    {
      "cell_type": "code",
      "execution_count": 10,
      "metadata": {
        "colab": {
          "base_uri": "https://localhost:8080/"
        },
        "id": "pAY3LxqFCbaO",
        "outputId": "7768a356-a646-4a30-8dd7-86c3b605245a"
      },
      "outputs": [
        {
          "output_type": "stream",
          "name": "stdout",
          "text": [
            "11000100110101101110100010100010011000000001110110111011000100010100000001001110011011011010100010001100010010111101\n",
            "11000100110101101110100010100010011000000001110110111011000100010100000001001110011011011010100010001100010010111101\n",
            "True\n"
          ]
        }
      ],
      "source": [
        "#Test cell to see that both of them have the same key\n",
        "keyAlice = ''.join([m0[x] for x in I0])\n",
        "keyBob = ''.join([str(measurements[x]) for x in I0])\n",
        "print(keyAlice)\n",
        "print(keyBob)\n",
        "print(keyAlice == keyBob)"
      ]
    },
    {
      "cell_type": "code",
      "source": [
        "#Bob Side: Using recieved key to decode encrypted message\n",
        "alphaBob = \"\".join(str(ord(str(i))) for i in keyBob)\n",
        "alphabob = bytes(str(key), 'utf-8')\n",
        "alphaBob = key\n",
        "fernet = Fernet(alphaBob)\n",
        "decMessage = fernet.decrypt(encMessage).decode()\n",
        "print(decMessage)"
      ],
      "metadata": {
        "colab": {
          "base_uri": "https://localhost:8080/"
        },
        "id": "aF9p2AM6r377",
        "outputId": "cd3d0ebe-11f0-47e3-e694-65c30b20363a"
      },
      "execution_count": 11,
      "outputs": [
        {
          "output_type": "stream",
          "name": "stdout",
          "text": [
            "Hi\n"
          ]
        }
      ]
    },
    {
      "cell_type": "code",
      "source": [
        "#Attacker\n",
        "\n",
        "#Attacker cell, Alice and Bob can't see what's going in on here\n",
        "Attacker_bases = [randint(0,1) for x in range(256)]\n",
        "backend = Aer.get_backend('qasm_simulator')\n",
        "measurements = list()\n",
        "for i in range(len(Attacker_bases)):\n",
        "    qubit = qubits[i]\n",
        "    if(Bob_bases[i] == 0):\n",
        "        qubit.measure(0,0)\n",
        "    else:\n",
        "        qubit.h(0)\n",
        "        qubit.measure(0,0)\n",
        "    result = execute(qubit, backend, shots=1, memory=True).result()\n",
        "    measurements.append(int(result.get_memory()[0]))"
      ],
      "metadata": {
        "id": "4mR31YGxx-GP"
      },
      "execution_count": 12,
      "outputs": []
    },
    {
      "cell_type": "code",
      "source": [
        "mycircuit.draw()"
      ],
      "metadata": {
        "colab": {
          "base_uri": "https://localhost:8080/",
          "height": 94
        },
        "id": "idp85o7jyXZw",
        "outputId": "e8c4f550-1de3-40fa-a7c0-a8240f5d5eae"
      },
      "execution_count": 13,
      "outputs": [
        {
          "output_type": "execute_result",
          "data": {
            "text/plain": [
              "   ┌───┐┌───┐┌─┐┌───┐┌─┐\n",
              "q: ┤ X ├┤ H ├┤M├┤ H ├┤M├\n",
              "   └───┘└───┘└╥┘└───┘└╥┘\n",
              "c: ═══════════╩═══════╩═\n",
              "                        "
            ],
            "text/html": [
              "<pre style=\"word-wrap: normal;white-space: pre;background: #fff0;line-height: 1.1;font-family: &quot;Courier New&quot;,Courier,monospace\">   ┌───┐┌───┐┌─┐┌───┐┌─┐\n",
              "q: ┤ X ├┤ H ├┤M├┤ H ├┤M├\n",
              "   └───┘└───┘└╥┘└───┘└╥┘\n",
              "c: ═══════════╩═══════╩═\n",
              "                        </pre>"
            ]
          },
          "metadata": {},
          "execution_count": 13
        }
      ]
    },
    {
      "cell_type": "code",
      "source": [
        "#Attacker cell, Alice and Bob can't see what's going in on here\n",
        "I0 = list()\n",
        "for i in range(len(Attacker_bases)):\n",
        "    if(Attacker_bases[i] == Alice_bases[i]):\n",
        "        I0.append(i)\n",
        "\n",
        "keyAttacker = ''.join([str(measurements[x]) for x in I0])\n",
        "print(keyAttacker)\n",
        "print(keyAttacker == keyAlice)"
      ],
      "metadata": {
        "colab": {
          "base_uri": "https://localhost:8080/"
        },
        "id": "0MhOASn57V1v",
        "outputId": "3de12774-2bda-47dc-cea7-2465afd5132d"
      },
      "execution_count": 14,
      "outputs": [
        {
          "output_type": "stream",
          "name": "stdout",
          "text": [
            "11111111010000111011000100001100000001111011100001011100010100000101010001010001101011010111001010010000011110111111010010011101\n",
            "False\n"
          ]
        }
      ]
    },
    {
      "cell_type": "markdown",
      "metadata": {
        "id": "SQLkcL9eCbaP"
      },
      "source": [
        "# As we can see here, when the attacker tries to access message, due to the quantum property of superposition, the data is changed once measures and hence the key recieved by the attacker is different from that which is sent by the sender."
      ]
    }
  ],
  "metadata": {
    "kernelspec": {
      "display_name": "Python 3",
      "language": "python",
      "name": "python3"
    },
    "language_info": {
      "codemirror_mode": {
        "name": "ipython",
        "version": 3
      },
      "file_extension": ".py",
      "mimetype": "text/x-python",
      "name": "python",
      "nbconvert_exporter": "python",
      "pygments_lexer": "ipython3",
      "version": "3.8.10"
    },
    "colab": {
      "provenance": [],
      "include_colab_link": true
    }
  },
  "nbformat": 4,
  "nbformat_minor": 0
}