{
 "cells": [
  {
   "cell_type": "markdown",
   "id": "66644ec1-e580-42f5-96e3-d99d64e1cc91",
   "metadata": {},
   "source": [
    "OBLIVIOUS TRANSFER\n",
    "\n",
    "Suppose that Alice wants to send two messages to Bob. Also, She wants to give the option to Bob to choose one of Her messages but She also wants to forbid the simultaneous reading of the two messages by Bob. That is, Bob can only read one of the messages depending on Bob's choice. Now, Bob doesn't want to make his choice visible for Alice. That is, only Bob can know what was his choice. To solve this problem we have to make the assumption that Alice and Bob will play by the rules no matter what. That is, Alice and Bob won't try to find the secret information of the other person.\n",
    "\n"
   ]
  },
  {
   "cell_type": "markdown",
   "id": "69167982-2e37-49db-b8c7-76fabf898b61",
   "metadata": {},
   "source": [
    "Importing Libraries"
   ]
  },
  {
   "cell_type": "code",
   "execution_count": 4,
   "id": "6a597f12-9588-4d29-a008-aec36b1588c5",
   "metadata": {},
   "outputs": [],
   "source": [
    "%matplotlib inline\n",
    "# Importing standard Qiskit libraries\n",
    "from qiskit import QuantumCircuit, execute, Aer, IBMQ\n",
    "from qiskit.compiler import transpile, assemble\n",
    "from qiskit.tools.jupyter import *\n",
    "from random import randint\n",
    "import hashlib"
   ]
  },
  {
   "cell_type": "markdown",
   "id": "2ed44524-57e2-4f40-9e26-965959ab5849",
   "metadata": {},
   "source": [
    "Funtions to convert strings to and from binary"
   ]
  },
  {
   "cell_type": "code",
   "execution_count": 5,
   "id": "8e115152-aa10-4b7b-adfa-ed7cb4d8132c",
   "metadata": {},
   "outputs": [],
   "source": [
    "def tobits(s):\n",
    "    result = []\n",
    "    for c in s:\n",
    "        bits = bin(ord(c))[2:]\n",
    "        bits = '00000000'[len(bits):] + bits\n",
    "        result.extend([int(b) for b in bits])\n",
    "    return ''.join([str(x) for x in result])\n",
    "\n",
    "def frombits(bits):\n",
    "    chars = []\n",
    "    for b in range(int(len(bits) / 8)):\n",
    "        byte = bits[b*8:(b+1)*8]\n",
    "        chars.append(chr(int(''.join([str(bit) for bit in byte]), 2)))\n",
    "    return ''.join(chars)"
   ]
  },
  {
   "cell_type": "markdown",
   "id": "c2e7ae49-0079-462f-a954-109a77bb035b",
   "metadata": {},
   "source": [
    "Sender side (Alice)"
   ]
  },
  {
   "cell_type": "code",
   "execution_count": 21,
   "id": "e7527515-ba1f-4a8f-bd55-fe3ed44383d7",
   "metadata": {},
   "outputs": [
    {
     "name": "stdin",
     "output_type": "stream",
     "text": [
      "Enter  message 1 to encrypt: Ananya\n",
      "Enter message 2 to encrypt: Thakre\n"
     ]
    },
    {
     "data": {
      "text/plain": [
       "'010000010110111001100001011011100111100101100001010101000110100001100001011010110111001001100101'"
      ]
     },
     "execution_count": 21,
     "metadata": {},
     "output_type": "execute_result"
    }
   ],
   "source": [
    "# Converting the string into binary\n",
    "messageToSend1 = tobits(input(\"Enter  message 1 to encrypt:\"))\n",
    "messageToSend1\n",
    "# Converting the string into binary\n",
    "messageToSend2 = tobits(input(\"Enter message 2 to encrypt:\"))\n",
    "messageToSend2\n",
    "\n",
    "messageMerge = messageToSend1+messageToSend2\n",
    "messageMerge \n"
   ]
  },
  {
   "cell_type": "markdown",
   "id": "a1d7aad7-caae-4a73-9c02-d4cc888d81de",
   "metadata": {},
   "source": [
    "Alice quantum circuit"
   ]
  },
  {
   "cell_type": "code",
   "execution_count": 22,
   "id": "c2b2e23b-5f34-4222-9100-87cb6da2f86e",
   "metadata": {},
   "outputs": [],
   "source": [
    "#Alice cell, Bob can't see what's going in on here\n",
    "Alice_bases = [randint(0,1) for x in range(len(messageMerge))]\n",
    "qubits = list()\n",
    "for i in range(len(Alice_bases)):\n",
    "    mycircuit = QuantumCircuit(1,1)\n",
    "    if(Alice_bases[i] == 0):\n",
    "        if(messageMerge[i] == \"1\"):\n",
    "            mycircuit.x(0)\n",
    "    else:\n",
    "        if(messageMerge[i] == \"0\"):\n",
    "            mycircuit.h(0)\n",
    "        else:\n",
    "            mycircuit.x(0)\n",
    "            mycircuit.h(0)\n",
    "    qubits.append(mycircuit)"
   ]
  },
  {
   "cell_type": "markdown",
   "id": "827128b0-630c-43c1-9aca-c2df6ce52c28",
   "metadata": {},
   "source": [
    "Receiver's Side (Bob)"
   ]
  },
  {
   "cell_type": "code",
   "execution_count": 23,
   "id": "a8c9b828-9552-4100-b66f-011fde03c9e5",
   "metadata": {},
   "outputs": [],
   "source": [
    "#Bob cell, Alice can't see what's going in on here\n",
    "Bob_bases = [randint(0,1) for x in range(len(messageMerge))]\n",
    "backend = Aer.get_backend('qasm_simulator')\n",
    "measurements = list()\n",
    "choice = 0\n",
    "for i in range(len(Bob_bases)):\n",
    "    qubit = qubits[i]\n",
    "    if(Bob_bases[i] == 0):\n",
    "        qubit.measure(0,0)\n",
    "    else:\n",
    "        qubit.h(0)\n",
    "        qubit.measure(0,0)\n",
    "    result = execute(qubit, backend, shots=1, memory=True).result()\n",
    "    measurements.append(int(result.get_memory()[0]))"
   ]
  },
  {
   "cell_type": "code",
   "execution_count": 24,
   "id": "f32fda6f-d288-45a0-9393-1769a1312599",
   "metadata": {},
   "outputs": [],
   "source": [
    "#Bob cell, Alice can't see what's going in on here\n",
    "I0 = list()\n",
    "I1 = list()\n",
    "if(choice == 0):    \n",
    "    for i in range(len(Alice_bases)):\n",
    "        if(Alice_bases[i] == Bob_bases[i]):\n",
    "            I0.append(i)\n",
    "        else:\n",
    "            I1.append(i)\n",
    "else:\n",
    "    for i in range(len(Alice_bases)):\n",
    "        if(Alice_bases[i] == Bob_bases[i]):\n",
    "            I1.append(i)\n",
    "        else:\n",
    "            I0.append(i)"
   ]
  },
  {
   "cell_type": "code",
   "execution_count": 26,
   "id": "bc0f9ad0-38b4-44f3-ab46-b82423206f87",
   "metadata": {},
   "outputs": [],
   "source": [
    "#Alice cell, Bob can't see what's going in on here\n",
    "x0 = list()\n",
    "for x in I0:\n",
    "    x0.append(messageMerge[x])\n",
    "x1 = list()\n",
    "for x in I1:\n",
    "    x1.append(messageMerge[x])\n",
    "fx0 = ''.join(format(ord(i), 'b') for i in hashlib.sha224(''.join(x0).encode('utf-8')).hexdigest())\n",
    "fx1 = ''.join(format(ord(i), 'b') for i in hashlib.sha224(''.join(x1).encode('utf-8')).hexdigest())\n",
    "s0 = ''\n",
    "s1 = ''\n",
    "for bit in range(len(messageToSend1)):\n",
    "    s0 += str(int(fx0[bit]) ^ int(messageToSend1[bit]))\n",
    "for bit in range(len(messageToSend2)):\n",
    "    s1 += str(int(fx1[bit]) ^ int(messageToSend2[bit]))"
   ]
  },
  {
   "cell_type": "code",
   "execution_count": 27,
   "id": "9d62c3d9-a8ed-4c51-ae49-ad63eba82066",
   "metadata": {},
   "outputs": [
    {
     "name": "stdout",
     "output_type": "stream",
     "text": [
      "Alice message was: Ananya\n"
     ]
    }
   ],
   "source": [
    "xB0 = list()\n",
    "if(choice == 0):\n",
    "    for x in I0:\n",
    "        xB0.append(measurements[x])\n",
    "else:\n",
    "    for x in I1:\n",
    "        xB0.append(measurements[x])\n",
    "fxB0 = ''.join(format(ord(i), 'b') for i in hashlib.sha224(''.join([str(x) for x in xB0]).encode('utf-8')).hexdigest())\n",
    "mB0 = bytearray()\n",
    "if(choice == 0):\n",
    "    for bit in range(len(s0)):\n",
    "        mB0.append(int(fxB0[bit]) ^ int(s0[bit]))\n",
    "    print(\"Alice message was: \" + frombits(mB0))\n",
    "else:\n",
    "    for bit in range(len(s1)):\n",
    "        mB0.append(int(fxB0[bit]) ^ int(s1[bit]))\n",
    "    print(\"Alice message was: \" + frombits(mB0))"
   ]
  },
  {
   "cell_type": "code",
   "execution_count": null,
   "id": "7090f541-fb67-41d0-83d0-d392d83fb65c",
   "metadata": {},
   "outputs": [],
   "source": []
  }
 ],
 "metadata": {
  "kernelspec": {
   "display_name": "Python 3 (ipykernel)",
   "language": "python",
   "name": "python3"
  },
  "language_info": {
   "codemirror_mode": {
    "name": "ipython",
    "version": 3
   },
   "file_extension": ".py",
   "mimetype": "text/x-python",
   "name": "python",
   "nbconvert_exporter": "python",
   "pygments_lexer": "ipython3",
   "version": "3.8.13"
  },
  "widgets": {
   "application/vnd.jupyter.widget-state+json": {
    "state": {
     "02c0655af70c4839b263815b3d2aa641": {
      "model_module": "@jupyter-widgets/controls",
      "model_module_version": "1.5.0",
      "model_name": "ButtonModel",
      "state": {
       "button_style": "primary",
       "description": "Clear",
       "layout": "IPY_MODEL_62dfe8b848a743cf88fbc07e070beb80",
       "style": "IPY_MODEL_73e60b691c5e4fe7a8ccf957aba27702"
      }
     },
     "120cc58dc14c446f84eddc01124ccddf": {
      "model_module": "@jupyter-widgets/controls",
      "model_module_version": "1.5.0",
      "model_name": "HTMLModel",
      "state": {
       "layout": "IPY_MODEL_ede433f4e2e54167a5e7ead06be8919d",
       "style": "IPY_MODEL_2e2d2e036e54455bb6894113a94d87f0",
       "value": "<h5>Status</h5>"
      }
     },
     "170e2c48a4884f4c9eb66189b7b4bf2a": {
      "model_module": "@jupyter-widgets/base",
      "model_module_version": "1.2.0",
      "model_name": "LayoutModel",
      "state": {
       "width": "145px"
      }
     },
     "19913062ea52401eba6d339781e5d1e0": {
      "model_module": "@jupyter-widgets/controls",
      "model_module_version": "1.5.0",
      "model_name": "HTMLModel",
      "state": {
       "layout": "IPY_MODEL_3dc58672dbc840d4aadb2be5f3707e1b",
       "style": "IPY_MODEL_b0a2bb2a5e224aa39c231f72a0135c79",
       "value": "<h5>Job ID</h5>"
      }
     },
     "2b39315c33ab4cc69551d4352227f940": {
      "model_module": "@jupyter-widgets/controls",
      "model_module_version": "1.5.0",
      "model_name": "HTMLModel",
      "state": {
       "layout": "IPY_MODEL_4b9980364bfa4f2e8b720ac3146c1a16",
       "style": "IPY_MODEL_ed60f5beab6048e799c7035080a9ebc4",
       "value": "<h5>Queue</h5>"
      }
     },
     "2e2d2e036e54455bb6894113a94d87f0": {
      "model_module": "@jupyter-widgets/controls",
      "model_module_version": "1.5.0",
      "model_name": "DescriptionStyleModel",
      "state": {
       "description_width": ""
      }
     },
     "3dc58672dbc840d4aadb2be5f3707e1b": {
      "model_module": "@jupyter-widgets/base",
      "model_module_version": "1.2.0",
      "model_name": "LayoutModel",
      "state": {
       "width": "190px"
      }
     },
     "438820ae0a1e4a3280982ef13c399b5a": {
      "model_module": "@jupyter-widgets/controls",
      "model_module_version": "1.5.0",
      "model_name": "HTMLModel",
      "state": {
       "layout": "IPY_MODEL_170e2c48a4884f4c9eb66189b7b4bf2a",
       "style": "IPY_MODEL_816504bcdc03402eada084b6c80113a5",
       "value": "<h5>Backend</h5>"
      }
     },
     "4b9980364bfa4f2e8b720ac3146c1a16": {
      "model_module": "@jupyter-widgets/base",
      "model_module_version": "1.2.0",
      "model_name": "LayoutModel",
      "state": {
       "width": "70px"
      }
     },
     "62dfe8b848a743cf88fbc07e070beb80": {
      "model_module": "@jupyter-widgets/base",
      "model_module_version": "1.2.0",
      "model_name": "LayoutModel",
      "state": {
       "grid_area": "right",
       "padding": "0px 0px 0px 0px",
       "width": "70px"
      }
     },
     "68c406bf4c97465eb5030c556729564a": {
      "model_module": "@jupyter-widgets/controls",
      "model_module_version": "1.5.0",
      "model_name": "HBoxModel",
      "state": {
       "children": [
        "IPY_MODEL_19913062ea52401eba6d339781e5d1e0",
        "IPY_MODEL_438820ae0a1e4a3280982ef13c399b5a",
        "IPY_MODEL_120cc58dc14c446f84eddc01124ccddf",
        "IPY_MODEL_2b39315c33ab4cc69551d4352227f940",
        "IPY_MODEL_6b517a05277347518b0a05c9a5981717"
       ],
       "layout": "IPY_MODEL_71c8114273044af4bd8837e6161572cd"
      }
     },
     "6b517a05277347518b0a05c9a5981717": {
      "model_module": "@jupyter-widgets/controls",
      "model_module_version": "1.5.0",
      "model_name": "HTMLModel",
      "state": {
       "layout": "IPY_MODEL_8d72deae0cd0484f8d52b15be3bd11ee",
       "style": "IPY_MODEL_a7439820acd84e29973d74f775631b91",
       "value": "<h5>Message</h5>"
      }
     },
     "71c8114273044af4bd8837e6161572cd": {
      "model_module": "@jupyter-widgets/base",
      "model_module_version": "1.2.0",
      "model_name": "LayoutModel",
      "state": {
       "margin": "0px 0px 0px 37px",
       "width": "600px"
      }
     },
     "73e60b691c5e4fe7a8ccf957aba27702": {
      "model_module": "@jupyter-widgets/controls",
      "model_module_version": "1.5.0",
      "model_name": "ButtonStyleModel",
      "state": {}
     },
     "816504bcdc03402eada084b6c80113a5": {
      "model_module": "@jupyter-widgets/controls",
      "model_module_version": "1.5.0",
      "model_name": "DescriptionStyleModel",
      "state": {
       "description_width": ""
      }
     },
     "8d72deae0cd0484f8d52b15be3bd11ee": {
      "model_module": "@jupyter-widgets/base",
      "model_module_version": "1.2.0",
      "model_name": "LayoutModel",
      "state": {}
     },
     "992127d1927442909ad274b71f4474b4": {
      "model_module": "@jupyter-widgets/base",
      "model_module_version": "1.2.0",
      "model_name": "LayoutModel",
      "state": {
       "grid_template_areas": "\n                                       \". . . . right \"\n                                        ",
       "grid_template_columns": "20% 20% 20% 20% 20%",
       "width": "100%"
      }
     },
     "a7439820acd84e29973d74f775631b91": {
      "model_module": "@jupyter-widgets/controls",
      "model_module_version": "1.5.0",
      "model_name": "DescriptionStyleModel",
      "state": {
       "description_width": ""
      }
     },
     "b0a2bb2a5e224aa39c231f72a0135c79": {
      "model_module": "@jupyter-widgets/controls",
      "model_module_version": "1.5.0",
      "model_name": "DescriptionStyleModel",
      "state": {
       "description_width": ""
      }
     },
     "b8d1781543b14e3ebe0b1b8078b98f9f": {
      "model_module": "@jupyter-widgets/base",
      "model_module_version": "1.2.0",
      "model_name": "LayoutModel",
      "state": {
       "margin": "0px 0px 10px 0px"
      }
     },
     "d33c3394fa3f4dc8826c229d71f4b564": {
      "model_module": "@jupyter-widgets/controls",
      "model_module_version": "1.5.0",
      "model_name": "GridBoxModel",
      "state": {
       "children": [
        "IPY_MODEL_02c0655af70c4839b263815b3d2aa641"
       ],
       "layout": "IPY_MODEL_992127d1927442909ad274b71f4474b4"
      }
     },
     "d472ad7b020649ff80a32c1ba2a46e26": {
      "model_module": "@jupyter-widgets/controls",
      "model_module_version": "1.5.0",
      "model_name": "DescriptionStyleModel",
      "state": {
       "description_width": ""
      }
     },
     "ddda5e3365d844f8bc9e5ac84f7fb1e9": {
      "model_module": "@jupyter-widgets/controls",
      "model_module_version": "1.5.0",
      "model_name": "HTMLModel",
      "state": {
       "layout": "IPY_MODEL_b8d1781543b14e3ebe0b1b8078b98f9f",
       "style": "IPY_MODEL_d472ad7b020649ff80a32c1ba2a46e26",
       "value": "<p style='font-family: IBM Plex Sans, Arial, Helvetica, sans-serif; font-size: 20px; font-weight: medium;'>Circuit Properties</p>"
      }
     },
     "ed60f5beab6048e799c7035080a9ebc4": {
      "model_module": "@jupyter-widgets/controls",
      "model_module_version": "1.5.0",
      "model_name": "DescriptionStyleModel",
      "state": {
       "description_width": ""
      }
     },
     "ede433f4e2e54167a5e7ead06be8919d": {
      "model_module": "@jupyter-widgets/base",
      "model_module_version": "1.2.0",
      "model_name": "LayoutModel",
      "state": {
       "width": "95px"
      }
     }
    },
    "version_major": 2,
    "version_minor": 0
   }
  }
 },
 "nbformat": 4,
 "nbformat_minor": 5
}
